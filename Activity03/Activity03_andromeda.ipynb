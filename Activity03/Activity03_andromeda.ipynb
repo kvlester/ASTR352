{
  "nbformat": 4,
  "nbformat_minor": 0,
  "metadata": {
    "colab": {
      "provenance": []
    },
    "kernelspec": {
      "name": "python3",
      "display_name": "Python 3"
    },
    "language_info": {
      "name": "python"
    }
  },
  "cells": [
    {
      "cell_type": "markdown",
      "source": [
        "# Activity 3 - Andromeda Galaxy Properties"
      ],
      "metadata": {
        "id": "A_kgmQfMV-vU"
      }
    },
    {
      "cell_type": "markdown",
      "source": [
        "In this activity, we will measure the properties of our neighbor, the Andromeda galaxy!\n",
        "\n",
        "**Step 0:** To start, run the following cell to import the packages we'll use:"
      ],
      "metadata": {
        "id": "nmnQ26cKWA-p"
      }
    },
    {
      "cell_type": "code",
      "source": [
        "# always start by importing useful packages\n",
        "import numpy as np\n",
        "import matplotlib.pyplot as plt\n",
        "from astropy.io import ascii\n",
        "from astropy.io import fits\n",
        "from scipy import ndimage, misc\n",
        "from astropy.visualization import astropy_mpl_style\n",
        "plt.style.use(astropy_mpl_style)\n",
        "%matplotlib inline"
      ],
      "metadata": {
        "id": "wS_hyPEiXvWH"
      },
      "execution_count": null,
      "outputs": []
    },
    {
      "cell_type": "markdown",
      "source": [
        "## Part 1 - Photometry\n",
        "\n",
        "We are going to measure the total luminosity of Andromeda from a B-band image taken as part of the DSS2 survey.  Upload the \"andromeda.fits\" file to Colab so we can use it. (This may take a few minutes).\n"
      ],
      "metadata": {
        "id": "57iesYhgWOht"
      }
    },
    {
      "cell_type": "markdown",
      "source": [
        "### Step 1 - Read in data\n",
        "\n",
        "In astronomy, telescope images are saved as Flexible Image Transport System (FITS) files instead of JPG's or PNG's. We will read our image into python using the astropy FITS package (astropy.io.fits), which loads our image as a 2D numpy array.\n",
        "\n",
        "Run this cell to read in our image & print out the number of pixels in the image.  "
      ],
      "metadata": {
        "id": "TyLIMHvWezP7"
      }
    },
    {
      "cell_type": "code",
      "source": [
        "# Andromeda image\n",
        "\n",
        "# read in the image\n",
        "image = fits.getdata('andromeda.fits', ext=0)\n",
        "\n",
        "# output information [# rows, # cols]\n",
        "print(' Number of pixels = ', image.shape)\n"
      ],
      "metadata": {
        "id": "7nlw3sCVJBO4"
      },
      "execution_count": null,
      "outputs": []
    },
    {
      "cell_type": "markdown",
      "source": [
        "This means that our image array has 4000 rows of pixels and 7055 columns of pixels.  This saves the flux at each X & Y pixel value.\n",
        "\n",
        "Run the cell below to plot our image using the matplotlib \"imshow\" function."
      ],
      "metadata": {
        "id": "b7HhvcpBfama"
      }
    },
    {
      "cell_type": "code",
      "source": [
        "# plot our image!\n",
        "plt.figure()\n",
        "plt.imshow(image, cmap='gray')\n",
        "plt.xlabel('Pixel Number')\n",
        "plt.ylabel('Pixel Number')\n",
        "plt.show()\n"
      ],
      "metadata": {
        "id": "l51dCdf-J7rl"
      },
      "execution_count": null,
      "outputs": []
    },
    {
      "cell_type": "markdown",
      "source": [
        "### Step 2 - Trim image\n",
        "\n",
        "First, let's only consider the pixels **along the major axis** of the galaxy. We need to trim down our image to just the central rows.\n",
        "\n",
        "The cell below will keep only the rows around a center value, then plot the brightness as a function of radius from the galaxy's center.\n",
        "\n",
        "- Modify the cell below to choose a central row number (\"central_row\")\n",
        "- Test 3 different values to see how the brightness profile changes\n"
      ],
      "metadata": {
        "id": "M1U0aQctiZE-"
      }
    },
    {
      "cell_type": "code",
      "source": [
        "# choose a center row\n",
        "central_row =\n",
        "\n",
        "# replot image\n",
        "plt.figure()\n",
        "plt.imshow(image, cmap='gray')\n",
        "plt.plot([0,7000], [central_row, central_row], color='red')\n",
        "plt.xlabel('Pixel Number')\n",
        "plt.ylabel('Pixel Number')\n",
        "plt.show()\n",
        "\n",
        "\n",
        "\n",
        "# Find the brightness along the chosen row\n",
        "#   & save the brightness profile as a new variable\n",
        "flux = np.mean(image[central_row-100:central_row+100, 3600:], axis=0)\n",
        "pixel_scale  = 1   # 1 pixel corresponds to 1 arcsec on the sky\n",
        "radius = np.arange(len(flux))*pixel_scale # radius in arcsec\n",
        "\n",
        "# brightness profile\n",
        "plt.plot(radius, flux, color='red')\n",
        "plt.xlabel('Radius (arcsec)')\n",
        "plt.ylabel('Brightness (L$_\\odot$/pc$^2$)')\n",
        "plt.xlim(0)\n",
        "plt.show()\n"
      ],
      "metadata": {
        "id": "UR7H9jGITBlt"
      },
      "execution_count": null,
      "outputs": []
    },
    {
      "cell_type": "markdown",
      "source": [
        "\n",
        "Notes: The angular radius values are saved in the \"radius\" array, and the brightness profile across the image is saved in the \"flux\"  array.  Also, the flux values have been modified so that our brightness profile has units of L$_\\odot$/pc$^2$, to make our analysis easier."
      ],
      "metadata": {
        "id": "DLX3wK5usFwX"
      }
    },
    {
      "cell_type": "markdown",
      "source": [
        "### Step 3 - Measuring brightness profile\n",
        "\n",
        "Now we can measure the brightness profile for Andromeda and determine the scale length of the disk.  \n",
        "\n",
        "Remember that the disk has an exponential surface luminosity profile:\n",
        "$$I(R) = I_0 e^{-R/h}$$\n",
        "\n",
        "The cell below creates a model exponential profile based on a chosen central brightness (\"I0\") and scale length (\"h\").\n",
        "\n",
        "Run this cell a few times to test different values and find the ones that best match our observed profile. (It won't be a perfect match, so don't worry if it's not quite right!)"
      ],
      "metadata": {
        "id": "9T-9vx7Zkfj9"
      }
    },
    {
      "cell_type": "code",
      "source": [
        "# model surface brightness\n",
        "I0 =       # central surface luminosity  in Lsun/pc2\n",
        "h =        # scale length in arcsec\n",
        "model = I0 * np.exp(-radius/h)\n",
        "\n",
        "\n",
        "# brightness profile\n",
        "plt.plot(radius, flux, color='red')\n",
        "plt.plot(radius, model, color='black')\n",
        "plt.xlabel('Radius (arcsec)')\n",
        "plt.ylabel('Flux')\n",
        "plt.show()\n"
      ],
      "metadata": {
        "id": "ZjsBAoOcRiL6"
      },
      "execution_count": null,
      "outputs": []
    },
    {
      "cell_type": "markdown",
      "source": [
        "Now that we've found the scale length in arcseconds, we need to convert it to parsecs. Write this calculation in the cell below, assuming a distance of 780 kpc to Andromeda. (Remember that there are 206265\" per radian.)"
      ],
      "metadata": {
        "id": "EzXsuAGLzrtQ"
      }
    },
    {
      "cell_type": "code",
      "source": [
        "# convert scale length from arcsec to parsecs\n",
        "h_rad = h / 206265    # radians\n",
        "\n",
        "h_pc = h_rad * 780 * 1000  # pc\n",
        "print(h_pc)"
      ],
      "metadata": {
        "id": "bxmdKbToTBxg"
      },
      "execution_count": null,
      "outputs": []
    },
    {
      "cell_type": "markdown",
      "source": [
        "### Step 4 - Disk Luminosity\n",
        "\n",
        "Calculate the total luminosity of the disk in the cell below, using $$L = 2\\pi I_0 h^2$$ with the scale length in parsecs!"
      ],
      "metadata": {
        "id": "dqE5JeRH6r63"
      }
    },
    {
      "cell_type": "code",
      "source": [
        "# total disk luminosity\n",
        "\n"
      ],
      "metadata": {
        "id": "j-tUFzwaTBzj"
      },
      "execution_count": null,
      "outputs": []
    },
    {
      "cell_type": "markdown",
      "source": [
        "### Question\n",
        "\n",
        "- What's the total luminosity of the disk (in billions of solar luminosities)?  \n",
        "\n",
        "\\\n",
        "\n",
        "\n",
        "- The Milky Way's disk is about 30 billion L$_\\odot$ -- how does Andromeda compare?\n",
        "\n",
        "\\\n",
        "\n"
      ],
      "metadata": {
        "id": "w7lTRDnvOVY-"
      }
    },
    {
      "cell_type": "markdown",
      "source": [
        "## Part 2 - Rotation Curve\n",
        "\n",
        "[Carignan et al. 2006](https://iopscience.iop.org/article/10.1086/503869) measured a rotation curve for Andromeda using radio observations of hydrogen 21cm emission.\n",
        "\n",
        "The file \"rotation_curve.csv\" contains the following information:\n",
        "- R = angular distance from the center of Andromeda (in arcseconds)\n",
        "- Vrot = rotational velocity (in km/s) -- already corrected for inclination!\n",
        "- Error = uncertainty in the rotational velocity (in km/s)\n",
        "\n"
      ],
      "metadata": {
        "id": "2wziogHAHmcv"
      }
    },
    {
      "cell_type": "markdown",
      "source": [
        "### Step 5 - Read in data\n",
        "\n",
        "As usual, we need to read in our data table in order to use it.\n",
        "\n",
        "Modify the cell below to:\n",
        "- read in the data file using the astropy.ascii.read() function (or whatever function you prefer!)\n",
        "- print out the table to make sure it looks ok\n",
        "- pull out each column into it's own variable\n",
        "- convert the arrays to numpy arrays (so we can do math with them later)"
      ],
      "metadata": {
        "id": "CI7WbT8GXAHr"
      }
    },
    {
      "cell_type": "code",
      "source": [
        "# read in file\n",
        "\n",
        "\n",
        "\n",
        "# pull out columns into new numpy arrays\n",
        "\n",
        "\n"
      ],
      "metadata": {
        "id": "POTUZbXdXCA1"
      },
      "execution_count": null,
      "outputs": []
    },
    {
      "cell_type": "markdown",
      "source": [
        "### Step 6 -- Calculate radius from the center\n",
        "\n",
        "Before we plot our rotation curve, we need to convert the angular radius (in arcmin) to physical radius (in kpc). Assume a distance of 780 kpc from Andromeda to the Earth.\n",
        "\n"
      ],
      "metadata": {
        "id": "lsoALf03W2cw"
      }
    },
    {
      "cell_type": "code",
      "source": [
        "# convert from angular to physical radius\n",
        "\n",
        "\n"
      ],
      "metadata": {
        "id": "b3QNcs0HY2Ve"
      },
      "execution_count": null,
      "outputs": []
    },
    {
      "cell_type": "markdown",
      "source": [
        "### Step 7 - Plot rotation curve\n",
        "\n",
        "Modify the cell below to plot the rotation curve for Andromeda.\n",
        "- Use any plot colors and symbols you like!\n",
        "- Change the y axis range to go from 0 to 300.\n",
        "- Add appropriate axis labels & units\n",
        "\n",
        "\n",
        "If you want to plot the error bars, use the plt.errorbar() function:\n",
        "> plt.errorbar(x, y, yerror)"
      ],
      "metadata": {
        "id": "HCc4RrWnY_IX"
      }
    },
    {
      "cell_type": "code",
      "source": [
        "# plot rotation curve here\n",
        "\n",
        "\n"
      ],
      "metadata": {
        "id": "szv4__gyZ5wy"
      },
      "execution_count": null,
      "outputs": []
    },
    {
      "cell_type": "markdown",
      "source": [
        "### Step 8 - Total galaxy mass\n",
        "\n",
        "Now that we've plotted our rotation curve, we can estimate the maximum rotational velocity for the outer region of Andromeda.  \n",
        "\n",
        "Either by looking at your plot or printing the values of the array,\n",
        "- what is the maximum radius measured by our data (in kpc)?\n",
        "- what is the rotational velocity at this radius (in km/s)?  \n",
        "\n",
        "Save these numbers as new variables in the cell below.\n",
        "\n"
      ],
      "metadata": {
        "id": "kjOPWrZdbGwl"
      }
    },
    {
      "cell_type": "code",
      "source": [
        "# maximum radius\n",
        "\n",
        "\n",
        "# maximum rotational velocity\n",
        "\n"
      ],
      "metadata": {
        "id": "x33mYSHwbpNj"
      },
      "execution_count": null,
      "outputs": []
    },
    {
      "cell_type": "markdown",
      "source": [
        "Next, calculate the total mass of Andromeda using:\n",
        "$$ M = \\frac{V_{max}^2 ~R_{max}}{G}$$\n",
        "\n",
        "Hint -- If you measure distances in parsecs, masses in solar masses, and velocities in kilometers per second, then $G = 4.43 \\times 10^{-3}~ \\rm{km^2~pc~ s^{-2} M_\\odot^{-1}}$."
      ],
      "metadata": {
        "id": "_ecjN5yccIu4"
      }
    },
    {
      "cell_type": "code",
      "source": [
        "# total mass\n",
        "\n",
        "\n"
      ],
      "metadata": {
        "id": "Tfes5D4Fcde7"
      },
      "execution_count": null,
      "outputs": []
    },
    {
      "cell_type": "markdown",
      "source": [
        "### Question\n",
        "\n",
        "- What is the mass of Andromeda (in billions of M$_\\odot$)?\n",
        "\n",
        "\\\n",
        "\n",
        "- The mass of the Milky Way is about 500 billion M$_\\odot$. Is Andromeda less massive or more massive than the Milky Way?\n",
        "\n",
        "\\\n",
        "\n"
      ],
      "metadata": {
        "id": "CbIVvOlHdJpK"
      }
    },
    {
      "cell_type": "markdown",
      "source": [
        "## Part 3 - Dark Matter\n",
        "\n",
        "Now that we have the total luminosity and total mass of the galaxy, let's see how much is dark matter."
      ],
      "metadata": {
        "id": "Ni8yW6zhO3R9"
      }
    },
    {
      "cell_type": "markdown",
      "source": [
        "### Step 9 - Luminous mass\n",
        "Estimate the M/L ratio for Andromeda using the graph below, assuming Andromeda is an Sc galaxy.\n",
        "\n",
        "Then, calculate the total luminous mass in the galaxy (in M$_\\odot$) from the M/L and disk luminosity."
      ],
      "metadata": {
        "id": "r_AEokFZ3EkI"
      }
    },
    {
      "cell_type": "markdown",
      "source": [
        "![picture](https://drive.google.com/uc?export=view&id=1YZsD7Cc_WE6DOgJSMOT42MvSPzB30Yvx)"
      ],
      "metadata": {
        "id": "wi9evaHf2C-N"
      }
    },
    {
      "cell_type": "code",
      "source": [
        "# calculate total luminous mass\n",
        "\n",
        "\n"
      ],
      "metadata": {
        "id": "696a0D2b0Dn8"
      },
      "execution_count": null,
      "outputs": []
    },
    {
      "cell_type": "markdown",
      "source": [
        "### Step 10 - Dark matter mass\n",
        "Calculate the total mass in dark matter (in M$_\\odot$).\n"
      ],
      "metadata": {
        "id": "uQ_HBdBB0KPq"
      }
    },
    {
      "cell_type": "code",
      "source": [
        "# calculate total dark matter mass\n",
        "\n",
        "\n"
      ],
      "metadata": {
        "id": "cJuhrC1h0jlT"
      },
      "execution_count": null,
      "outputs": []
    },
    {
      "cell_type": "markdown",
      "source": [
        "### Question\n",
        "\n",
        "- How many times more dark matter does Andromeda have than luminous matter?\n",
        "\n",
        "\\\n",
        "\n",
        "- Some models predict the dark matter mass is closer to 1 trillion M$_\\odot$. Why do you think we measured a lower value?\n",
        "\n",
        "\\"
      ],
      "metadata": {
        "id": "IwRv2Lit0RcM"
      }
    },
    {
      "cell_type": "markdown",
      "source": [
        "### Bonus\n",
        "\n",
        "If you have extra time, try using the Tully-Fisher relation to measure a distance to Andromeda!  Assume an apparent magnitude of m=3.1 mag and [this](https://drive.google.com/file/d/1BuCjkbVqTrveWj7GGDATNpO5QTr2q7_8/view?usp=sharing) TF relation.\n",
        "\n",
        "The true distance is 778 kpc -- how close did you get?"
      ],
      "metadata": {
        "id": "OrR-qZFooYUT"
      }
    },
    {
      "cell_type": "code",
      "source": [
        "\n"
      ],
      "metadata": {
        "id": "brHURXhio9YU"
      },
      "execution_count": null,
      "outputs": []
    },
    {
      "cell_type": "markdown",
      "source": [
        "\n",
        "---\n",
        "\n",
        "## Final instructions\n",
        "Finish any remaining exercises, then **send me your notebook** to get participation credit. You can download your notebook as an \".ipynb\" file and email it, or share the notebook with me through google drive. Remember to answer any questions!\n",
        "\n",
        "\\\n",
        "If you're finishing the activity at home and run into python problems, don't worry about getting the code exactly right. This isn't a coding class and I'm not grading you on how well you know python. If you're stuck, add a text box and explain what you're trying to do *in words*. Then I'll know you have the right idea and know how to apply the content, even if the python code itself is not working. You're also welcome to stop by my office to ask coding questions anytime!"
      ],
      "metadata": {
        "id": "m_EGWIoSKNiR"
      }
    }
  ]
}