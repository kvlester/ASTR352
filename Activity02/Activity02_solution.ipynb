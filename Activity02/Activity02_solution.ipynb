{
  "nbformat": 4,
  "nbformat_minor": 0,
  "metadata": {
    "colab": {
      "provenance": [],
      "toc_visible": true
    },
    "kernelspec": {
      "name": "python3",
      "display_name": "Python 3"
    },
    "language_info": {
      "name": "python"
    }
  },
  "cells": [
    {
      "cell_type": "markdown",
      "source": [
        "# Activity 2 - Hubble's Law\n",
        "\n",
        "In this activity, we will measure the redshifts and distances of several galaxies to build our own version of Hubble's Law."
      ],
      "metadata": {
        "id": "A_kgmQfMV-vU"
      }
    },
    {
      "cell_type": "markdown",
      "source": [
        "## Step 1 - Taking data\n",
        "Follow the instructions in the provided PDF (activity02_instructions.pdf). You should have measured the wavelengths of the Ca H or K line and the angular sizes of galaxies, and recorded them in the provided Google Sheets file.  \n",
        "\n",
        "\\\n",
        "\n",
        "Upload your data file into Colab, or link the Sheets file from your drive."
      ],
      "metadata": {
        "id": "nmnQ26cKWA-p"
      }
    },
    {
      "cell_type": "markdown",
      "source": [
        "## Step 2 - Reading in galaxy data\n",
        "\n",
        "Let's read in our data!\n",
        "\n",
        "Modify the cell below to:\n",
        "- read in the data file using the astropy.ascii.read() function (or whatever function you prefer)\n",
        "- print out the table to make sure it looks ok\n",
        "- pull out each column into it's own variable\n",
        "- convert the angular size and wavelength arrays to numpy arrays (so we can do math with them later)\n"
      ],
      "metadata": {
        "id": "57iesYhgWOht"
      }
    },
    {
      "cell_type": "code",
      "source": [
        "# always start by importing useful packages\n",
        "import numpy as np\n",
        "import matplotlib.pyplot as plt\n",
        "from astropy.io import ascii\n",
        "%matplotlib inline"
      ],
      "metadata": {
        "id": "wS_hyPEiXvWH"
      },
      "execution_count": 1,
      "outputs": []
    },
    {
      "cell_type": "code",
      "source": [
        "# Read in the data file\n",
        "data = ascii.read('Activity02 - data.csv', format='csv')\n",
        "\n",
        "# Print out the table\n",
        "data"
      ],
      "metadata": {
        "id": "63U9MwIUV-8l",
        "colab": {
          "base_uri": "https://localhost:8080/",
          "height": 464
        },
        "outputId": "4a18872a-404a-4610-ff08-1e82538b3c19"
      },
      "execution_count": 3,
      "outputs": [
        {
          "output_type": "execute_result",
          "data": {
            "text/plain": [
              "<Table length=18>\n",
              " Galaxy  Angular Size Wavelength\n",
              "  str8     float64     float64  \n",
              "-------- ------------ ----------\n",
              "NGC 1357        0.956     3999.3\n",
              "NGC 1832        0.894     3997.0\n",
              "NGC 2276        0.843     3999.3\n",
              "NGC 2775        1.435     3989.3\n",
              "NGC 2903        3.568     3973.8\n",
              "NGC 3034        3.435     3973.0\n",
              "NGC 3147        1.215     4004.8\n",
              "NGC 3227        1.444     3984.6\n",
              "NGC 3368         2.25     3981.5\n",
              "NGC 3623         2.78     3976.9\n",
              "NGC 3627        2.684     3979.2\n",
              "NGC 4775        0.734     3992.4\n",
              "NGC 5248        1.239     3983.1\n",
              "NGC 5548         0.49     4040.4\n",
              "NGC 6181        0.811     4000.9\n",
              "NGC 6217        0.668     3986.9\n",
              "NGC 6643        1.205     3987.7\n",
              "NGC 6764        0.786     4002.4"
            ],
            "text/html": [
              "<div><i>Table length=18</i>\n",
              "<table id=\"table136763569014192\" class=\"table-striped table-bordered table-condensed\">\n",
              "<thead><tr><th>Galaxy</th><th>Angular Size</th><th>Wavelength</th></tr></thead>\n",
              "<thead><tr><th>str8</th><th>float64</th><th>float64</th></tr></thead>\n",
              "<tr><td>NGC 1357</td><td>0.956</td><td>3999.3</td></tr>\n",
              "<tr><td>NGC 1832</td><td>0.894</td><td>3997.0</td></tr>\n",
              "<tr><td>NGC 2276</td><td>0.843</td><td>3999.3</td></tr>\n",
              "<tr><td>NGC 2775</td><td>1.435</td><td>3989.3</td></tr>\n",
              "<tr><td>NGC 2903</td><td>3.568</td><td>3973.8</td></tr>\n",
              "<tr><td>NGC 3034</td><td>3.435</td><td>3973.0</td></tr>\n",
              "<tr><td>NGC 3147</td><td>1.215</td><td>4004.8</td></tr>\n",
              "<tr><td>NGC 3227</td><td>1.444</td><td>3984.6</td></tr>\n",
              "<tr><td>NGC 3368</td><td>2.25</td><td>3981.5</td></tr>\n",
              "<tr><td>NGC 3623</td><td>2.78</td><td>3976.9</td></tr>\n",
              "<tr><td>NGC 3627</td><td>2.684</td><td>3979.2</td></tr>\n",
              "<tr><td>NGC 4775</td><td>0.734</td><td>3992.4</td></tr>\n",
              "<tr><td>NGC 5248</td><td>1.239</td><td>3983.1</td></tr>\n",
              "<tr><td>NGC 5548</td><td>0.49</td><td>4040.4</td></tr>\n",
              "<tr><td>NGC 6181</td><td>0.811</td><td>4000.9</td></tr>\n",
              "<tr><td>NGC 6217</td><td>0.668</td><td>3986.9</td></tr>\n",
              "<tr><td>NGC 6643</td><td>1.205</td><td>3987.7</td></tr>\n",
              "<tr><td>NGC 6764</td><td>0.786</td><td>4002.4</td></tr>\n",
              "</table></div>"
            ]
          },
          "metadata": {},
          "execution_count": 3
        }
      ]
    },
    {
      "cell_type": "code",
      "source": [
        "# Pull out each column into it's own variable\n",
        "name = data[\"Galaxy\"]\n",
        "theta = data[\"Angular Size\"]  # milliradians\n",
        "wave_obs = data[\"Wavelength\"] # angstroms\n",
        "\n",
        "\n",
        "# Convert these arrays to numpy arrays\n",
        "theta = np.array(data[\"Angular Size\"])\n",
        "wave_obs = np.array(data[\"Wavelength\"])\n",
        "\n",
        "print(theta)\n",
        "print(wave_obs)"
      ],
      "metadata": {
        "id": "P8ISp-akYP9C",
        "colab": {
          "base_uri": "https://localhost:8080/"
        },
        "outputId": "ef9eb796-cfc2-431f-a723-422e06a9ca59"
      },
      "execution_count": 5,
      "outputs": [
        {
          "output_type": "stream",
          "name": "stdout",
          "text": [
            "[0.956 0.894 0.843 1.435 3.568 3.435 1.215 1.444 2.25  2.78  2.684 0.734\n",
            " 1.239 0.49  0.811 0.668 1.205 0.786]\n",
            "[3999.3 3997.  3999.3 3989.3 3973.8 3973.  4004.8 3984.6 3981.5 3976.9\n",
            " 3979.2 3992.4 3983.1 4040.4 4000.9 3986.9 3987.7 4002.4]\n"
          ]
        }
      ]
    },
    {
      "cell_type": "markdown",
      "source": [
        "## Step 3 - Calculating redshifts\n",
        "\n",
        "Now that we have the observed Ca II wavelength for each galaxy, we can calculate the radial velocity.\n",
        "\n",
        "Use the Doppler shift equation to calculate the radial velocity of each galaxy. Refer to the instructions page for the rest wavelengths of the Ca K & H lines. Save these values as a new array."
      ],
      "metadata": {
        "id": "2d1-ctXg-1UK"
      }
    },
    {
      "cell_type": "code",
      "source": [
        "# radial velocity\n",
        "# v / c = delta_lambda / lambda\n",
        "\n",
        "wave_rest = 3968.5    # Angstroms\n",
        "c = 3e5               # km/s\n",
        "\n",
        "rv = (wave_obs - wave_rest) / wave_rest * c\n",
        "print(rv)"
      ],
      "metadata": {
        "colab": {
          "base_uri": "https://localhost:8080/"
        },
        "id": "Sy7VZ52H_TNi",
        "outputId": "07003a6d-0aaa-4d33-a0bf-9ff55ce1e801"
      },
      "execution_count": 6,
      "outputs": [
        {
          "output_type": "stream",
          "name": "stdout",
          "text": [
            "[2328.33564319 2154.46642308 2328.33564319 1572.38251228  400.65515938\n",
            "  340.17890891 2744.10986519 1217.08454076  982.73907018  635.00062996\n",
            "  808.86985007 1806.72798287 1103.69157112 5435.30301121 2449.28814414\n",
            " 1390.95376087 1451.43001134 2562.68111377]\n"
          ]
        }
      ]
    },
    {
      "cell_type": "markdown",
      "source": [
        "## Step 4 - Calculating distances\n",
        "\n",
        "We will use the standard ruler technique to measure the galaxy distances. Since we think these galaxies are all spiral galaxies, we can assume they have the same physical size as another spiral galaxy, Andromeda. Andromeda is 22 kpc in diameter.\n",
        "\n",
        "Then, using the small angle formula, we can calculate the distance to each galaxy from the angular size:\n",
        "$$ distance = \\frac{diameter}{angular~size}$$\n",
        "\n",
        "Note -- For this formular to work, we first need to convert the angular size into radians."
      ],
      "metadata": {
        "id": "Yk2MYbrC_19y"
      }
    },
    {
      "cell_type": "markdown",
      "source": [
        "In the cell below, calculate the distance to each galaxy in kpc. Then, convert the distances to megaparsecs (Mpc)."
      ],
      "metadata": {
        "id": "JqEnvRwzA-Hi"
      }
    },
    {
      "cell_type": "code",
      "source": [
        "# WRITE CODE HERE\n",
        "diameter = 22   # kpc\n",
        "\n",
        "d = diameter / (theta / 1000)    # d = pc,   theta = mrad --> radians\n",
        "\n",
        "d = d / 1000    # Mpc\n",
        "print(d)"
      ],
      "metadata": {
        "colab": {
          "base_uri": "https://localhost:8080/"
        },
        "id": "rszyDFXjA4_K",
        "outputId": "9a491233-12f9-42c5-c654-3db77c286009"
      },
      "execution_count": 8,
      "outputs": [
        {
          "output_type": "stream",
          "name": "stdout",
          "text": [
            "[23012.55230126 24608.50111857 26097.27164887 15331.01045296\n",
            "  6165.91928251  6404.65793304 18106.99588477 15235.45706371\n",
            "  9777.77777778  7913.66906475  8196.72131148 29972.7520436\n",
            " 17756.25504439 44897.95918367 27127.00369914 32934.13173653\n",
            " 18257.26141079 27989.82188295]\n",
            "[23.0125523  24.60850112 26.09727165 15.33101045  6.16591928  6.40465793\n",
            " 18.10699588 15.23545706  9.77777778  7.91366906  8.19672131 29.97275204\n",
            " 17.75625504 44.89795918 27.1270037  32.93413174 18.25726141 27.98982188]\n"
          ]
        }
      ]
    },
    {
      "cell_type": "markdown",
      "source": [
        "## Step 5 - Hubble's Law\n",
        "\n",
        "Now we have radial velocities and distances, so let's make a Hubble plot:\n",
        "- Plot the radial velocity (in km/s) as a function of distance (in Mpc) using a scatter plot.\n",
        "- Add axis labels\n",
        "- Change the axis limits as needed\n",
        "\n",
        "Don't worry if your galaxies don't line up perfectly! We're doing this by eye, so there's bound to be human error."
      ],
      "metadata": {
        "id": "rTdaw0ZXBfjx"
      }
    },
    {
      "cell_type": "code",
      "source": [
        "# Hubble plot\n",
        "plt.plot(d, rv, 'bo')\n",
        "plt.xlabel('Distance (Mpc)')\n",
        "plt.ylabel('Radial Velocity (km/s)')\n",
        "plt.minorticks_on()          # this shows the minor tick marks\n",
        "plt.show()"
      ],
      "metadata": {
        "colab": {
          "base_uri": "https://localhost:8080/",
          "height": 449
        },
        "id": "zwOAoQxvB6bI",
        "outputId": "1004a94a-648d-4d88-f99b-5ecba4632755"
      },
      "execution_count": 10,
      "outputs": [
        {
          "output_type": "display_data",
          "data": {
            "text/plain": [
              "<Figure size 640x480 with 1 Axes>"
            ],
            "image/png": "[encoded data removed]"
          },
          "metadata": {}
        }
      ]
    },
    {
      "cell_type": "markdown",
      "source": [
        "Next, we are going to fit a line to our data.\n",
        "There are a few different functions you can use to do this, but a common one is the linear regression package \"scipy.stats.linregress\". Run the cell below to import the package:\n",
        "\n"
      ],
      "metadata": {
        "id": "nua0N2SABp4F"
      }
    },
    {
      "cell_type": "code",
      "source": [
        "#import this package\n",
        "from scipy import stats"
      ],
      "metadata": {
        "id": "GzFZ74veDDmN"
      },
      "execution_count": 11,
      "outputs": []
    },
    {
      "cell_type": "markdown",
      "source": [
        "To use this package, we give the function x and y arrays, and it will fit a line to our data. The function returns the best fit slope and y-intercept:\n",
        "\n",
        "> result = stats.linregress(x, y) \\\n",
        "yint = result.intercept  \\\n",
        "slope = result.slope\n",
        "\n",
        "\n",
        "Write code below to:\n",
        "- fit a line to your galaxy data (this will be our \"model\")\n",
        "- save the best fit slope and y-intercept as new variables\n",
        "- calculate the model radial velocities (the y values calculated from our model at each x value)\n"
      ],
      "metadata": {
        "id": "qEZCT_kQDMT0"
      }
    },
    {
      "cell_type": "code",
      "source": [
        "# fit a line to data\n",
        "result = stats.linregress(d, rv)\n",
        "slope = result.slope\n",
        "yint = result.intercept\n",
        "print(slope)\n",
        "print(yint)\n",
        "\n",
        "# model RVs\n",
        "# y = mx + b\n",
        "rv_mod = slope * d + yint\n"
      ],
      "metadata": {
        "colab": {
          "base_uri": "https://localhost:8080/"
        },
        "id": "GSD7VMSbDuEK",
        "outputId": "7452df71-2d1f-4f83-ee48-eaa275691005"
      },
      "execution_count": 22,
      "outputs": [
        {
          "output_type": "stream",
          "name": "stdout",
          "text": [
            "95.19071955723338\n",
            "-140.8904234092679\n"
          ]
        }
      ]
    },
    {
      "cell_type": "markdown",
      "source": [
        "Then copy your plot from Step 5 into the cell below, and modify the code to overplot the best fit line."
      ],
      "metadata": {
        "id": "cTcbKJ3REWA-"
      }
    },
    {
      "cell_type": "code",
      "source": [
        "# Hubble plot\n",
        "plt.plot(d, rv, 'bo', label='Galaxies')\n",
        "plt.plot(d, rv_mod, color='red', label='Model')\n",
        "plt.xlabel('Distance (Mpc)')\n",
        "plt.ylabel('Radial Velocity (km/s)')\n",
        "plt.minorticks_on()          # this shows the minor tick marks\n",
        "plt.legend()\n",
        "plt.show()"
      ],
      "metadata": {
        "colab": {
          "base_uri": "https://localhost:8080/",
          "height": 449
        },
        "id": "QRk7295wEd8r",
        "outputId": "4ea047e1-a334-4f4d-dbde-9166d6f17f73"
      },
      "execution_count": 23,
      "outputs": [
        {
          "output_type": "display_data",
          "data": {
            "text/plain": [
              "<Figure size 640x480 with 1 Axes>"
            ],
            "image/png": "[encoded data removed]"
          },
          "metadata": {}
        }
      ]
    },
    {
      "cell_type": "markdown",
      "source": [
        "## Step 6 - Questions\n",
        "\n",
        "1. What value did you get for the Hubble constant? Write some code below to calculate your percent error, assuming an accepted value of $H_0 = 71 \\pm 4$ km/s per Mpc."
      ],
      "metadata": {
        "id": "1ELblhb5IBxG"
      }
    },
    {
      "cell_type": "code",
      "source": [
        "# percent error\n",
        "# % error = (obs - acc)/acc * 100\n",
        "\n",
        "error = (slope - 71)/71 * 100\n",
        "print(' Percent error = ', error)\n"
      ],
      "metadata": {
        "colab": {
          "base_uri": "https://localhost:8080/"
        },
        "id": "rfBqwH9UIdv_",
        "outputId": "60b5b042-3b44-4768-8145-e67e71e779e4"
      },
      "execution_count": 24,
      "outputs": [
        {
          "output_type": "stream",
          "name": "stdout",
          "text": [
            " Percent error =  34.07143599610335\n"
          ]
        }
      ]
    },
    {
      "cell_type": "markdown",
      "source": [
        "\\\n",
        "\n",
        "2. Using your value of the Hubble constant, we can estimate the age of the universe!  If the universe has been expanding since its beginning at a constant speed, the universe's age would simply be $1/H_0$.\n",
        "\n",
        "Write code below to calculate the age of the universe. Some useful numbers:\n",
        "- $1 \\rm{~yr} = 3.16 \\times 10^7$ sec\n",
        "- $1 \\rm{~Mpc} = 3.086 \\times 10^{19}$ km"
      ],
      "metadata": {
        "id": "LH1NXDp5IuIO"
      }
    },
    {
      "cell_type": "code",
      "source": [
        "# age of the universe\n",
        "slope_km = slope / 3.086e19 # km/s per Mpc --> km/s per km\n",
        "t_sec = 1 / slope_km   # seconds\n",
        "t_yr = t_sec / 3.16e7  # years\n",
        "t_gyr = t_yr / 1e9     # Gyr\n",
        "\n",
        "print('Age of the universe = ', t_gyr, ' billion years')\n",
        "\n"
      ],
      "metadata": {
        "colab": {
          "base_uri": "https://localhost:8080/"
        },
        "id": "b5ehZVFVJaSt",
        "outputId": "29b68ba9-e1fd-4c9f-b7f6-1de8ecc86731"
      },
      "execution_count": 27,
      "outputs": [
        {
          "output_type": "stream",
          "name": "stdout",
          "text": [
            "Age of the universe =  10.259217316808316  Gyr\n"
          ]
        }
      ]
    },
    {
      "cell_type": "markdown",
      "source": [
        "\n",
        "---\n",
        "\n",
        "## Final instructions\n",
        "Finish any remaining exercises, then **send me your notebook** to get participation credit. You can download your notebook as an \".ipynb\" file and email it, or share the notebook with me through google drive.\n",
        "\n",
        "\\\n",
        "If you're finishing the activity at home and run into python problems, don't worry about getting the code exactly right. This isn't a coding class and I'm not grading you on how well you know python. If you're stuck, add a text box and explain what you're trying to do *in words*. Then I'll know you have the right idea and know how to apply the content, even if the python code itself is not working. You're also welcome to stop by my office to ask coding questions anytime!"
      ],
      "metadata": {
        "id": "m_EGWIoSKNiR"
      }
    }
  ]
}