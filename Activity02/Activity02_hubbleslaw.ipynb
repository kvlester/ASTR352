{
  "nbformat": 4,
  "nbformat_minor": 0,
  "metadata": {
    "colab": {
      "provenance": [],
      "toc_visible": true
    },
    "kernelspec": {
      "name": "python3",
      "display_name": "Python 3"
    },
    "language_info": {
      "name": "python"
    }
  },
  "cells": [
    {
      "cell_type": "markdown",
      "source": [
        "# Activity 2 - Hubble's Law\n",
        "\n",
        "In this activity, we will measure the redshifts and distances of several galaxies to build our own version of Hubble's Law."
      ],
      "metadata": {
        "id": "A_kgmQfMV-vU"
      }
    },
    {
      "cell_type": "markdown",
      "source": [
        "## Step 1 - Taking data\n",
        "Follow the instructions in the provided PDF (activity02_instructions.pdf). You should have measured the wavelengths of the Ca H or K line and the angular sizes of galaxies, and recorded them in the provided Google Sheets file.  \n",
        "\n",
        "\\\n",
        "\n",
        "Upload your data file into Colab, or link the Sheets file from your drive."
      ],
      "metadata": {
        "id": "nmnQ26cKWA-p"
      }
    },
    {
      "cell_type": "markdown",
      "source": [
        "## Step 2 - Reading in galaxy data\n",
        "\n",
        "Let's read in our data!\n",
        "\n",
        "Modify the cell below to:\n",
        "- read in the data file using the astropy.ascii.read() function (or whatever function you prefer)\n",
        "- print out the table to make sure it looks ok\n",
        "- pull out each column into it's own variable\n",
        "- convert the angular size and wavelength arrays to numpy arrays (so we can do math with them later)\n"
      ],
      "metadata": {
        "id": "57iesYhgWOht"
      }
    },
    {
      "cell_type": "code",
      "source": [
        "# always start by importing useful packages\n",
        "import numpy as np\n",
        "import matplotlib.pyplot as plt\n",
        "from astropy.io import ascii\n",
        "%matplotlib inline"
      ],
      "metadata": {
        "id": "wS_hyPEiXvWH"
      },
      "execution_count": null,
      "outputs": []
    },
    {
      "cell_type": "code",
      "source": [
        "# Read in the data file\n",
        "\n",
        "\n",
        "\n",
        "# Print out the table\n",
        "\n"
      ],
      "metadata": {
        "id": "63U9MwIUV-8l"
      },
      "execution_count": null,
      "outputs": []
    },
    {
      "cell_type": "code",
      "source": [
        "# Pull out each column into it's own variable\n",
        "\n",
        "\n",
        "\n",
        "# Convert these arrays to numpy arrays\n",
        "\n",
        "\n",
        "\n",
        "# print them out too\n",
        "\n"
      ],
      "metadata": {
        "id": "P8ISp-akYP9C"
      },
      "execution_count": null,
      "outputs": []
    },
    {
      "cell_type": "markdown",
      "source": [
        "## Step 3 - Calculating redshifts\n",
        "\n",
        "Now that we have the observed Ca II wavelength for each galaxy, we can calculate the radial velocity.\n",
        "\n",
        "Use the Doppler shift equation to calculate the radial velocity of each galaxy. Refer to the instructions page for the rest wavelengths of the Ca K & H lines. Save these values as a new array."
      ],
      "metadata": {
        "id": "2d1-ctXg-1UK"
      }
    },
    {
      "cell_type": "code",
      "source": [
        "# radial velocity\n",
        "\n",
        "\n",
        "\n",
        "\n"
      ],
      "metadata": {
        "id": "Sy7VZ52H_TNi"
      },
      "execution_count": null,
      "outputs": []
    },
    {
      "cell_type": "markdown",
      "source": [
        "## Step 4 - Calculating distances\n",
        "\n",
        "We will use the standard ruler technique to measure the galaxy distances. Since we think these galaxies are all spiral galaxies, we can assume they have the same physical size as another spiral galaxy, Andromeda. Andromeda is 22 kpc in diameter.\n",
        "\n",
        "Then, using the small angle formula, we can calculate the distance to each galaxy from the angular size:\n",
        "$$ distance = \\frac{diameter}{angular~size}$$\n",
        "\n",
        "Note -- For this formular to work, we first need to convert the angular size into radians."
      ],
      "metadata": {
        "id": "Yk2MYbrC_19y"
      }
    },
    {
      "cell_type": "markdown",
      "source": [
        "In the cell below, calculate the distance to each galaxy in kpc. Then, convert the distances to megaparsecs (Mpc)."
      ],
      "metadata": {
        "id": "JqEnvRwzA-Hi"
      }
    },
    {
      "cell_type": "code",
      "source": [
        "# distances\n",
        "\n",
        "\n",
        "\n",
        "\n"
      ],
      "metadata": {
        "id": "rszyDFXjA4_K"
      },
      "execution_count": null,
      "outputs": []
    },
    {
      "cell_type": "markdown",
      "source": [
        "## Step 5 - Hubble's Law\n",
        "\n",
        "Now we have radial velocities and distances, so let's make a Hubble plot:\n",
        "- Plot the radial velocity (in km/s) as a function of distance (in Mpc) using a scatter plot.\n",
        "- Add axis labels\n",
        "- Change the axis limits as needed\n",
        "\n",
        "Don't worry if your galaxies don't line up perfectly! We're doing this by eye, so there's bound to be human error."
      ],
      "metadata": {
        "id": "rTdaw0ZXBfjx"
      }
    },
    {
      "cell_type": "code",
      "source": [
        "# Hubble plot\n",
        "\n",
        "\n",
        "\n"
      ],
      "metadata": {
        "id": "zwOAoQxvB6bI"
      },
      "execution_count": null,
      "outputs": []
    },
    {
      "cell_type": "markdown",
      "source": [
        "Next, we are going to fit a line to our data.\n",
        "There are a few different functions you can use to do this, but a common one is the linear regression package \"scipy.stats.linregress\". Run the cell below to import the package:\n",
        "\n"
      ],
      "metadata": {
        "id": "nua0N2SABp4F"
      }
    },
    {
      "cell_type": "code",
      "source": [
        "#import this package\n",
        "from scipy import stats"
      ],
      "metadata": {
        "id": "GzFZ74veDDmN"
      },
      "execution_count": null,
      "outputs": []
    },
    {
      "cell_type": "markdown",
      "source": [
        "To use this package, we give the function x and y arrays, and it will fit a line to our data. The function returns the best fit slope and y-intercept:\n",
        "\n",
        "> result = stats.linregress(x, y) \\\n",
        "yint = result.intercept  \\\n",
        "slope = result.slope\n",
        "\n",
        "\n",
        "Write code below to:\n",
        "- fit a line to your galaxy data (this will be our \"model\")\n",
        "- save the best fit slope and y-intercept as new variables\n",
        "- calculate the model radial velocities (the y values calculated from our model at each x value)\n"
      ],
      "metadata": {
        "id": "qEZCT_kQDMT0"
      }
    },
    {
      "cell_type": "code",
      "source": [
        "# fit a line to data\n",
        "\n",
        "\n",
        "\n",
        "\n",
        "# model RVs\n",
        "\n",
        "\n"
      ],
      "metadata": {
        "id": "GSD7VMSbDuEK"
      },
      "execution_count": null,
      "outputs": []
    },
    {
      "cell_type": "markdown",
      "source": [
        "Then copy your plot from Step 5 into the cell below, and modify the code to overplot the best fit line."
      ],
      "metadata": {
        "id": "cTcbKJ3REWA-"
      }
    },
    {
      "cell_type": "code",
      "source": [
        "# Hubble plot with model\n",
        "\n",
        "\n"
      ],
      "metadata": {
        "id": "QRk7295wEd8r"
      },
      "execution_count": null,
      "outputs": []
    },
    {
      "cell_type": "markdown",
      "source": [
        "## Step 6 - Questions\n",
        "\n",
        "1. What value did you get for the Hubble constant? Write some code below to calculate your percent error, assuming an accepted value of $H_0 = 71 \\pm 4$ km/s per Mpc."
      ],
      "metadata": {
        "id": "1ELblhb5IBxG"
      }
    },
    {
      "cell_type": "code",
      "source": [
        "# percent error\n",
        "\n"
      ],
      "metadata": {
        "id": "rfBqwH9UIdv_"
      },
      "execution_count": null,
      "outputs": []
    },
    {
      "cell_type": "markdown",
      "source": [
        "\\\n",
        "\n",
        "2. Using your value of the Hubble constant, we can estimate the age of the universe!  If the universe has been expanding since its beginning at a constant speed, the universe's age would simply be $1/H_0$.\n",
        "\n",
        "Write code below to calculate the age of the universe. Some useful numbers:\n",
        "- $1 \\rm{~yr} = 3.16 \\times 10^7$ sec\n",
        "- $1 \\rm{~Mpc} = 3.086 \\times 10^{19}$ km"
      ],
      "metadata": {
        "id": "LH1NXDp5IuIO"
      }
    },
    {
      "cell_type": "code",
      "source": [
        "# age of the universe\n",
        "\n",
        "\n"
      ],
      "metadata": {
        "id": "b5ehZVFVJaSt"
      },
      "execution_count": null,
      "outputs": []
    },
    {
      "cell_type": "markdown",
      "source": [
        "\n",
        "---\n",
        "\n",
        "## Final instructions\n",
        "Finish any remaining exercises, then **send me your notebook** to get participation credit. You can download your notebook as an \".ipynb\" file and email it, or share the notebook with me through google drive.\n",
        "\n",
        "\\\n",
        "If you're finishing the activity at home and run into python problems, don't worry about getting the code exactly right. This isn't a coding class and I'm not grading you on how well you know python. If you're stuck, add a text box and explain what you're trying to do *in words*. Then I'll know you have the right idea and know how to apply the content, even if the python code itself is not working. You're also welcome to stop by my office to ask coding questions anytime!"
      ],
      "metadata": {
        "id": "m_EGWIoSKNiR"
      }
    }
  ]
}