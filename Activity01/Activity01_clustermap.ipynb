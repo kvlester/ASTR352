{
  "nbformat": 4,
  "nbformat_minor": 0,
  "metadata": {
    "colab": {
      "provenance": []
    },
    "kernelspec": {
      "name": "python3",
      "display_name": "Python 3"
    },
    "language_info": {
      "name": "python"
    }
  },
  "cells": [
    {
      "cell_type": "markdown",
      "source": [
        "# Activity 1 - Milky Way Cluster Map"
      ],
      "metadata": {
        "id": "A_kgmQfMV-vU"
      }
    },
    {
      "cell_type": "markdown",
      "source": [
        "In this activity, we will make a map of the star clusters in the Milky Way and use it to figure out where the center of our galaxy is!\n",
        "\n",
        "**Step 0:** To start, run the following cell to import the packages we'll use:"
      ],
      "metadata": {
        "id": "nmnQ26cKWA-p"
      }
    },
    {
      "cell_type": "code",
      "source": [
        "# always start by importing useful packages\n",
        "import numpy as np\n",
        "import matplotlib.pyplot as plt\n",
        "from astropy.io import ascii\n",
        "%matplotlib inline"
      ],
      "metadata": {
        "id": "wS_hyPEiXvWH"
      },
      "execution_count": null,
      "outputs": []
    },
    {
      "cell_type": "markdown",
      "source": [
        "## Part 1 - Read in cluster Data\n",
        "\n",
        "Our data file is \"clusters.csv\" -- this file contains the Galactic coordinates $l, b$ (in degrees), the distance (in parsecs), the metallicity (abundance of heavy elements), and type (open or globular) for over 2000 star clusters in the Milky Way.\n",
        "\n",
        "**Step 1:** Modify the cell below to:\n",
        "- upload \"clusters.csv\" into Colab\n",
        "- read in the data file using the astropy.ascii.read() function\n",
        "- print out the table to see what it looks like\n",
        "- pull out each column into it's own variable\n",
        "- convert these arrays to numpy arrays (except the \"type\" column, since it's a string)\n"
      ],
      "metadata": {
        "id": "57iesYhgWOht"
      }
    },
    {
      "cell_type": "code",
      "source": [
        "# Read in the data file\n",
        "data =\n",
        "\n",
        "# Print out the table\n",
        "data"
      ],
      "metadata": {
        "id": "63U9MwIUV-8l"
      },
      "execution_count": null,
      "outputs": []
    },
    {
      "cell_type": "code",
      "source": [
        "# Pull out each column into it's own variable\n",
        "l =\n",
        "b =\n",
        "d =\n",
        "metallicity =\n",
        "type =\n",
        "\n",
        "# Convert these arrays to numpy arrays\n",
        "l =\n",
        "b =\n",
        "d =\n",
        "metallicity =\n"
      ],
      "metadata": {
        "id": "P8ISp-akYP9C"
      },
      "execution_count": null,
      "outputs": []
    },
    {
      "cell_type": "markdown",
      "source": [
        "## Part 2 - Separating by cluster type\n",
        "**Step 2:** To compare the two types of clusters, let's separate the open clusters from the globular clusters.\n",
        "\n",
        "\n",
        "There are two ways to do this:\n",
        "\n",
        "1. **the python way** - This method uses python condition statements to separate subsets of data. It will make an array that has true/false flags for each element, so all the elements that pass the condition get true flags. (This is probably the proper computer science way of doing things.)\n",
        "\n",
        "2. **the classic astronomer way** - This method is based off how astronomers used to code in the IDL language. You would use the *np.where(condition)* function to find all the indices of an array where a certain condition statement is true.\n",
        "\n",
        "For example, the cell below determines where the \"test\" array has values less than 100. The first example (condition statement) will report *True flags* where the array is less then 100. The second example (np.where) will report the *index numbers* where the array is less than 100. Run the cell below to see the results."
      ],
      "metadata": {
        "id": "BnC2AFzqZ-vU"
      }
    },
    {
      "cell_type": "code",
      "source": [
        "test = np.array([1, 10, 100, 1000])\n",
        "\n",
        "# option 1 - example conditional\n",
        "small_numbers = test < 100\n",
        "print(small_numbers)\n",
        "\n",
        "\n",
        "\n",
        "# option 2 - example np.where()\n",
        "small_numbers = np.where(test < 100)\n",
        "print(small_numbers)\n",
        "\n"
      ],
      "metadata": {
        "id": "fGo5rfdEEzmg"
      },
      "execution_count": null,
      "outputs": []
    },
    {
      "cell_type": "markdown",
      "source": [
        "When you run the cell above, both options report that the first two elements are indeed less than 100."
      ],
      "metadata": {
        "id": "Nang3fbUsQvB"
      }
    },
    {
      "cell_type": "markdown",
      "source": [
        "**Step 3:**  Modify the cell below to find the indices that correspond to open cluster and those that correspond to globular clusters. You'll save these index arrays as \"open\" and \"glob\" for convenience. You can use either the conditional method or the np.where method, it's totally up to you! Note: python uses \"==\" as the conditional operator for \"equals\"."
      ],
      "metadata": {
        "id": "-uGxtyzAFMDq"
      }
    },
    {
      "cell_type": "code",
      "source": [
        "# split by type\n",
        "open =\n",
        "glob =\n",
        "\n",
        "print(open)\n",
        "print(glob)\n"
      ],
      "metadata": {
        "id": "NbkwJXO6Z8gh"
      },
      "execution_count": null,
      "outputs": []
    },
    {
      "cell_type": "markdown",
      "source": [
        "**Step 4:** Let's make some histogram plots to learn more about our cluster data. The cell below shows an example histogram plot of cluster distance. The first value is the array you want to plot (distance), and the \"bins\" keyword sets the number of histogram bins.\n",
        "\n",
        "(a) First, run this cell to see how it looks.\n",
        "\n",
        "(b) Next, try plotting only the open cluster distances. Similar to indexing a single array value (e.g., x[4]), we can also index a list of indices or a list of true/false flags (e.g., x[ind_array]). Modify the cell below and add the \"open\" array to the plot command, then rerun the cell to see how the plot changes."
      ],
      "metadata": {
        "id": "MpOT0ex_M8md"
      }
    },
    {
      "cell_type": "code",
      "source": [
        "plt.hist(d, bins=20, color='blue')\n",
        "plt.xlabel('Distance (pc)')\n",
        "plt.ylabel('Number of clusters')\n",
        "plt.show()"
      ],
      "metadata": {
        "id": "WDkdD-hlNOs2"
      },
      "execution_count": null,
      "outputs": []
    },
    {
      "cell_type": "markdown",
      "source": [
        "**Step 5:** Make histogram plots for (1) distance and (2) metallicity. For each,\n",
        "- plot the open and globular clusters separately (two histograms on the same plot)\n",
        "- change the axis labels to appropriate values\n",
        "- change the number of histogram bins as needed\n",
        "- add a legend\n",
        "\n",
        "To make a legend: give label names to each plot command and use the legend function:\n",
        "> plt.plot(x, y, label='Data set 1') \\\n",
        "> plt.plot(x2, y2, label='Data set 2') \\\n",
        "> plt.legend() \\\n",
        "> plt.show()\n"
      ],
      "metadata": {
        "id": "6QPd-xzQOOJm"
      }
    },
    {
      "cell_type": "code",
      "source": [
        "# WRITE YOUR CODE HERE\n",
        "\n",
        "\n",
        "\n"
      ],
      "metadata": {
        "id": "ac9Us2W7PUqx"
      },
      "execution_count": null,
      "outputs": []
    },
    {
      "cell_type": "markdown",
      "source": [
        "**Question 1:** How do the distances of the open and globular clusters compare? How do the metallicities compare?\n",
        "\n",
        "\\\n",
        "Write your answer here:\n",
        "\n",
        "\\"
      ],
      "metadata": {
        "id": "qBmwLQpLSQep"
      }
    },
    {
      "cell_type": "markdown",
      "source": [
        "## Part 3 - Rectangular coordinates\n",
        "In order to better visualize the cluster positions, we need to convert the Galactic coordinates ($l, b, d$) into rectangular coordinates ($X, Y, Z$). As shown in the picture below -- X points in the direction of the Galactic center, Y points perpendicular in the disk, and Z points above the disk.\n",
        "\n",
        "**Step 6:** Calculate the X, Y, Z coordinate of the clusters in the cell below. Note: when using *np.sin()* or *np.cos()*, the angles need to be in **radians**! You can write $\\pi$ using *np.pi* or just use 3.14."
      ],
      "metadata": {
        "id": "CrM5Ewni43Iv"
      }
    },
    {
      "cell_type": "markdown",
      "source": [
        "![Galactic_coordinates copy.jpeg](data:image/jpeg;base64,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)"
      ],
      "metadata": {
        "id": "2o__r7r8IySF"
      }
    },
    {
      "cell_type": "code",
      "source": [
        "# convert l,b,d to x,y,z\n",
        "\n",
        "\n"
      ],
      "metadata": {
        "id": "h_KivZsQ45KO"
      },
      "execution_count": null,
      "outputs": []
    },
    {
      "cell_type": "markdown",
      "source": [
        "## Part 4 - Open cluster positions\n",
        "\n",
        "**Step 7:** Plot a top view of the galaxy (Y vs X) and a side view (Z vs X) for **only the open clusters**.\n",
        "\n",
        "- Set the axis limits to appropriate values\n",
        "- Customize the color/shape of the points however you like\n",
        "- Add a point at the origin for the Sun\n",
        "- If time allows, add a legend!\n",
        "\n"
      ],
      "metadata": {
        "id": "Y426VSgDCEee"
      }
    },
    {
      "cell_type": "code",
      "source": [
        "# OPEN CLUSTERS ONLY\n",
        "\n",
        "\n",
        "\n"
      ],
      "metadata": {
        "id": "ArSMCaqJ6ssd"
      },
      "execution_count": null,
      "outputs": []
    },
    {
      "cell_type": "markdown",
      "source": [
        "One way to estimate the location of the galactic center is by finding the center of the cluster positions, because we assume they are distributed uniformly around the galaxy. We can use the above graphs to estimate the location, or we can get a more exact answer by averaging the cluster positions in each direction.\n",
        "\n",
        "**Step 8:** Calculate the average of the open clusters' X Y and Z coordinates in the cell below, then print out each value. (Hint: you can take the average of a numpy array using *np.mean(array)*.)"
      ],
      "metadata": {
        "id": "qKMJxL-M6mcX"
      }
    },
    {
      "cell_type": "code",
      "source": [
        "# WRITE YOUR CODE HERE\n",
        "\n",
        "\n",
        "\n"
      ],
      "metadata": {
        "id": "ORG8A2Ev7Nrj"
      },
      "execution_count": null,
      "outputs": []
    },
    {
      "cell_type": "markdown",
      "source": [
        "\\\n",
        "\n",
        "**Question 2:** Based on the positions of the open clusters, describe in words where you think the Galactic center would be. How far is the Sun from the center (in pc)?\n",
        "\n",
        "Write your answer here:\n",
        "\n",
        "\\\n"
      ],
      "metadata": {
        "id": "d1lGCfRTCft6"
      }
    },
    {
      "cell_type": "markdown",
      "source": [
        "## Part 5 - Globular cluster positions\n",
        "\n",
        "**Step 9:** Next, make the same plots as above but now **only for globular clusters**. Modify the axis limits, plot symbols, and legend as needed."
      ],
      "metadata": {
        "id": "Wyw0pZYEC3VL"
      }
    },
    {
      "cell_type": "code",
      "source": [
        "# GLOBULAR CLUSTERS ONLY\n",
        "\n",
        "\n",
        "\n"
      ],
      "metadata": {
        "id": "aTlmgNMr5MH5"
      },
      "execution_count": null,
      "outputs": []
    },
    {
      "cell_type": "markdown",
      "source": [
        "**Step 10:** Calculate the mean of the globular clusters' X Y and Z coordinates in the cell below, then print out each value."
      ],
      "metadata": {
        "id": "9xX-UeRD8Ulq"
      }
    },
    {
      "cell_type": "code",
      "source": [
        "# WRITE CODE HERE\n",
        "\n",
        "\n",
        "\n"
      ],
      "metadata": {
        "id": "j8uYU2F38Xup"
      },
      "execution_count": null,
      "outputs": []
    },
    {
      "cell_type": "markdown",
      "source": [
        "\\\n",
        "\n",
        "**Question 3:** Based on the positions of the globular clusters, describe in words where you think the Galactic center would be. How far is the Sun from the center (in pc)?\n",
        "\n",
        "Write your answer here:\n",
        "\n",
        "\\\n",
        "\n",
        "**Question 4:** Observationally, why does studying open clusters give us a different map of the Milky Way than studying globular clusters? Which do you think give us a more accurate position for the Galactic center?\n",
        "\n",
        "Write your answers here:\n",
        "\n",
        "\\"
      ],
      "metadata": {
        "id": "YTWRx7aIKM8v"
      }
    },
    {
      "cell_type": "markdown",
      "source": [
        "**Optional Step 11: (if you have extra time)** Open clusters are young and form in the disk of the galaxy (where all the gas lives). Globular clusters are old and formed early in the galaxy's history, so they belong to the stellar halo component of the Milky Way. Using the positions of open and globular clusters, estimate the overall size of the galactic disk and the galactic halo (in X, Y, and Z)... How do the thicknesses (Z heights) compare for the disk and the halo?\n"
      ],
      "metadata": {
        "id": "llDgTQEKD0_a"
      }
    },
    {
      "cell_type": "code",
      "source": [
        "# WRITE CODE HERE\n",
        "\n",
        "\n"
      ],
      "metadata": {
        "id": "J8w4Qj9jEyMa"
      },
      "execution_count": null,
      "outputs": []
    },
    {
      "cell_type": "markdown",
      "source": [
        "\n",
        "---\n",
        "\n",
        "## Final instructions\n",
        "Finish any remaining exercises, then **send me your notebook** to get participation credit. You can download your notebook as an \".ipynb\" file and email it, or share the notebook with me through google drive. Remember to answer questions 1-4!\n",
        "\n",
        "\\\n",
        "If you're finishing the activity at home and run into python problems, don't worry about getting the code exactly right. This isn't a coding class and I'm not grading you on how well you know python. If you're stuck, add a text box and explain what you're trying to do *in words*. Then I'll know you have the right idea and know how to apply the content, even if the python code itself is not working. You're also welcome to stop by my office to ask coding questions anytime!"
      ],
      "metadata": {
        "id": "m_EGWIoSKNiR"
      }
    }
  ]
}