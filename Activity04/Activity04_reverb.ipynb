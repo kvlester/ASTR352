{
  "nbformat": 4,
  "nbformat_minor": 0,
  "metadata": {
    "colab": {
      "provenance": []
    },
    "kernelspec": {
      "name": "python3",
      "display_name": "Python 3"
    },
    "language_info": {
      "name": "python"
    }
  },
  "cells": [
    {
      "cell_type": "markdown",
      "source": [
        "# Activity 4 - Mass of a SMBH with Reverberation Mapping"
      ],
      "metadata": {
        "id": "A_kgmQfMV-vU"
      }
    },
    {
      "cell_type": "markdown",
      "source": [
        "In this activity, we will measure the mass of an AGN using reverberation mapping! I altered the data a little to fit this activity, but it is all based on real data sets for NGC 5548 (a Seyfert AGN). The photometry is from [Faurlough et al. 2016](https://ui.adsabs.harvard.edu/abs/2016ApJ...821...56F/abstract) and the spectrum is from [the STScI AGN atlas](https://www.stsci.edu/hst/instrumentation/reference-data-for-calibration-and-tools/astronomical-catalogs/the-agn-atlas).\n",
        "\n",
        "\\\n",
        "\n",
        "**Step 0:** To start, run the following cell to import the packages we'll use:"
      ],
      "metadata": {
        "id": "nmnQ26cKWA-p"
      }
    },
    {
      "cell_type": "code",
      "source": [
        "# always start by importing useful packages\n",
        "import numpy as np\n",
        "import matplotlib.pyplot as plt\n",
        "from astropy.io import ascii\n",
        "%matplotlib inline"
      ],
      "metadata": {
        "id": "wS_hyPEiXvWH"
      },
      "execution_count": null,
      "outputs": []
    },
    {
      "cell_type": "markdown",
      "source": [
        "\n",
        "\n",
        "---\n",
        "\n"
      ],
      "metadata": {
        "id": "wxCzVgGGtCi3"
      }
    },
    {
      "cell_type": "markdown",
      "source": [
        "## Part 1 - Photometry\n",
        "\n",
        "In order to measure the black hole mass, we first need the size of the Broad Line Region (BLR). We can use the time delay between light emitted by the accretion disk (UV light) and by the BLR (optical light) to find this size.\n",
        "\n",
        "Upload the \"photometry.csv\" file to Colab so we can use it. This file contains the flux measurements in the UV and optical over time:\n",
        "- \"time\" = time of observation in days\n",
        "- \"UV flux\" = normalized flux in UV wavelengths\n",
        "- \"Optical flux\" = normalized flux in optical wavelengths\n"
      ],
      "metadata": {
        "id": "57iesYhgWOht"
      }
    },
    {
      "cell_type": "markdown",
      "source": [
        "### Step 1 - Read in data\n",
        "\n",
        "- Read in this data file (using *ascii.read()* or whatever package you like)\n",
        "- Pull out the time and flux columns into their own Numpy arrays."
      ],
      "metadata": {
        "id": "TyLIMHvWezP7"
      }
    },
    {
      "cell_type": "code",
      "source": [
        "# read in the data file\n",
        "\n",
        "\n",
        "\n",
        "# pull out each column into it's own Numpy array\n",
        "\n",
        "\n"
      ],
      "metadata": {
        "id": "7nlw3sCVJBO4"
      },
      "execution_count": null,
      "outputs": []
    },
    {
      "cell_type": "markdown",
      "source": [
        "### Step 2 - Plot light curve\n",
        "\n",
        "- Make a plot of the flux vs. time for both data sets on the same graph\n",
        "- Choose different colors/markers/linestyles for each dataset\n",
        "- Add axis labels to your graph\n",
        "- Add a legend to your graph"
      ],
      "metadata": {
        "id": "GcA876qWDJ7Z"
      }
    },
    {
      "cell_type": "code",
      "source": [
        "# plot here!\n",
        "\n"
      ],
      "metadata": {
        "id": "3d5UoBaPKZVu"
      },
      "execution_count": null,
      "outputs": []
    },
    {
      "cell_type": "markdown",
      "source": [
        "### Step 3 - Measure time delay\n",
        "\n",
        "When we plot the light curve, we see that the different data sets have the same shape but are offset slightly in time. This is due to the extra time it takes the BLR to absorb & re-emit the light, and will tell us the radius of the BLR.\n",
        "\n",
        "To measure the time delay ($\\Delta t$) between the UV light variation and the optical light variations, we're just going to use our eyes:\n",
        "- The variable \"delta_t\" represents our delay value. Pick any value to try!\n",
        "- Replot both light curves, but give the UV data set your chosen time delay.  \n",
        "- Test different delay values to see which creates the best match"
      ],
      "metadata": {
        "id": "nRTd03oGKxXs"
      }
    },
    {
      "cell_type": "code",
      "source": [
        "# measure the offset by eye\n",
        "delta_t =        # days\n",
        "\n",
        "# replot light curves with  shifted  UV data\n",
        "\n",
        "\n"
      ],
      "metadata": {
        "id": "n0o8Sns8LyHL"
      },
      "execution_count": null,
      "outputs": []
    },
    {
      "cell_type": "markdown",
      "source": [
        "### Step 4 - Calculate BLR radius\n",
        "\n",
        "Use your best-fit time delay (converted to seconds!) and the speed of light to calculate the size of the BLR (in cm).  Hint: $c = 3\\times10^{10}$ cm/s."
      ],
      "metadata": {
        "id": "WrNA3AIGQ_kP"
      }
    },
    {
      "cell_type": "code",
      "source": [
        "# BLR radius\n",
        "\n",
        "\n"
      ],
      "metadata": {
        "id": "nJcALezORCi7"
      },
      "execution_count": null,
      "outputs": []
    },
    {
      "cell_type": "markdown",
      "source": [
        "Print out the radius in both cm and AU. Hint: $1~AU = 1.496\\times10^{13}~cm$.\n",
        "\n",
        "You should get a BLR radius of about 2000 AU.\n",
        "\n",
        "\\\n",
        "\n",
        "---\n",
        "\n"
      ],
      "metadata": {
        "id": "aakF9L3ijCpZ"
      }
    },
    {
      "cell_type": "markdown",
      "source": [
        "## Part 2 - Spectroscopy\n",
        "\n",
        "The next thing we need is the speed of the BLR clouds, which requires a spectum of the AGN."
      ],
      "metadata": {
        "id": "vAF2f-fsRx49"
      }
    },
    {
      "cell_type": "markdown",
      "source": [
        "### Step 5 - Read in data\n",
        "\n",
        "Upload & read in the file \"spectrum.csv\", which has columns:\n",
        "- \"wavelength\" = wavelength in Angstroms\n",
        "- \"flux\" = normalized flux\n",
        "\n",
        "Then pull out each column and save them as new numpy arrays."
      ],
      "metadata": {
        "id": "HjnD5XfzRRmh"
      }
    },
    {
      "cell_type": "code",
      "source": [
        "# read in the spectrum\n",
        "\n",
        "\n",
        "\n",
        "# pull out each column into it's own Numpy array\n",
        "\n",
        "\n"
      ],
      "metadata": {
        "id": "FvQgqgxmSQcS"
      },
      "execution_count": null,
      "outputs": []
    },
    {
      "cell_type": "markdown",
      "source": [
        "### Step 6 - Plot spectrum\n",
        "\n",
        "Plot the AGN spectrum, including axis labels."
      ],
      "metadata": {
        "id": "3zDi2lVCR9pR"
      }
    },
    {
      "cell_type": "code",
      "source": [
        "# plot here!\n",
        "\n",
        "\n"
      ],
      "metadata": {
        "id": "HRM28VjjSQ18"
      },
      "execution_count": null,
      "outputs": []
    },
    {
      "cell_type": "markdown",
      "source": [
        "### Step 7 - Measure line width\n",
        "\n",
        "In your plot, you should see several strong emission lines! The \"broad lines\" have wider shapes and come from the BLR. They correspond to $H\\gamma$ 4340 A, $H\\beta$ 4861 A, and $H\\alpha$ 6563 A. The \"narrow lines\" are the two thin lines around 5000 A, which correspond to [O III] 4959A and 5007A and come from the Narrow Line Region clouds.\n",
        "\n",
        "To measure the BLR speed:\n",
        "\n",
        "1. We want to measure the speed of the *broad* line region, so choose one of the broad emission lines to study.\n",
        "\n",
        "2. Replot the spectrum in the cell below, but zoom in on your chosen emission line by changing the x and y axis limits. Pro tip: plot the minor tick marks on the x-axis using:\n",
        "```\n",
        "plt.minorticks_on()\n",
        "```\n",
        "\n",
        "\n"
      ],
      "metadata": {
        "id": "3kxrMb-nR_te"
      }
    },
    {
      "cell_type": "code",
      "source": [
        "# zoomed in plot\n",
        "\n",
        "\n",
        "\n"
      ],
      "metadata": {
        "id": "jagkbRXHSRLz"
      },
      "execution_count": null,
      "outputs": []
    },
    {
      "cell_type": "markdown",
      "source": [
        "3. Estimate the wavelength value for the right edge of the emission line, corresponding to where the emission line meets the baseline (continuum) of the spectrum. Write this value in the \"lambda_right\" variable below.\n",
        "\n",
        "\n",
        "\n"
      ],
      "metadata": {
        "id": "jIyADgnZpDTK"
      }
    },
    {
      "cell_type": "code",
      "source": [
        "# right edge of emission line\n",
        "lambda_right =       # Angstroms\n"
      ],
      "metadata": {
        "id": "jaQ6f6JFpKkq"
      },
      "execution_count": null,
      "outputs": []
    },
    {
      "cell_type": "markdown",
      "source": [
        "### Step 8 - Calculate BLR velocity\n",
        "\n",
        "Calculate the radial velocity of the cloud using the Doppler shift between the rest wavelength of the line and the right side wavelength.\n"
      ],
      "metadata": {
        "id": "JgxdZ8T8pKrv"
      }
    },
    {
      "cell_type": "code",
      "source": [
        "# BLR speed\n",
        "\n"
      ],
      "metadata": {
        "id": "5sKa_vIHpLK3"
      },
      "execution_count": null,
      "outputs": []
    },
    {
      "cell_type": "markdown",
      "source": [
        "If you print out the speed in km/s, you should get an answer of a few thousand km/s.\n",
        "\n",
        "\\\n",
        "\n",
        "\n",
        "---\n",
        "\n"
      ],
      "metadata": {
        "id": "wbwkR5vvq7sS"
      }
    },
    {
      "cell_type": "markdown",
      "source": [
        "## Part 3 - Black hole mass\n",
        "\n",
        "Now we're ready to calculate the mass of the black hole!\n",
        "\n",
        "Use the reverberation mapping equation: $$M = \\frac{6~ V^2 ~ R}{G}$$\n",
        "where $G = 6.67\\times10^{-8} ~cm^3/g/s^2$. Be careful with units!\n",
        "\n",
        "\\\n",
        "\n",
        "Then convert the blach hole mass to solar masses. Hint: $1 M_\\odot = 2\\times10^{33} g$.\n"
      ],
      "metadata": {
        "id": "0TDR9-34SHWR"
      }
    },
    {
      "cell_type": "code",
      "source": [
        "# SMBH mass\n",
        "\n",
        "\n",
        "\n",
        "# convert to solar masses\n",
        "\n",
        "\n"
      ],
      "metadata": {
        "id": "4iaEJP80SQAF"
      },
      "execution_count": null,
      "outputs": []
    },
    {
      "cell_type": "markdown",
      "source": [
        "**Question**: The mass of Sgr A* is about 4 million M$_\\odot$. Is this AGN more or less massive than Sgr A* ?\n",
        "\n",
        "\\\n",
        "\n",
        "**Answer**:\n",
        "\n"
      ],
      "metadata": {
        "id": "uSnmaER2ss-R"
      }
    },
    {
      "cell_type": "markdown",
      "source": [
        "\n",
        "---\n",
        "\n",
        "## Final instructions\n",
        "Finish any remaining exercises & questions, then **send me your notebook** to get participation credit.\n",
        "\n",
        "\\\n",
        "If you're finishing the activity at home and run into python problems, don't worry about getting the code exactly right. This isn't a coding class and I'm not grading you on how well you know python. If you're stuck, add a text box and explain what you're trying to do *in words*. Then I'll know you have the right idea and know how to apply the content, even if the python code itself is not working. You're also welcome to stop by my office to ask coding questions anytime!"
      ],
      "metadata": {
        "id": "m_EGWIoSKNiR"
      }
    }
  ]
}